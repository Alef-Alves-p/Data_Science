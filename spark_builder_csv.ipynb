{
 "cells": [
  {
   "cell_type": "code",
   "execution_count": 45,
   "metadata": {},
   "outputs": [],
   "source": [
    "import pandas as pd\n",
    "import names\n",
    "import numpy as np\n",
    "import random \n",
    "import pycountry"
   ]
  },
  {
   "cell_type": "code",
   "execution_count": 46,
   "metadata": {},
   "outputs": [],
   "source": [
    "def generate_random_data(num_rows):\n",
    "    names_list = [names.get_full_name() for _ in range(num_rows)]\n",
    "    ages = np.random.randint(18, 65, size=num_rows)\n",
    "    nationalities = [generate_random_country() for _ in range(num_rows)]\n",
    "    profession = [\"Engenheiro\", \"Professor\", \"Médico\", \"Escritor\", \"Artista\", \"Programador\", \"Enfermeiro\", \"Advogado\", \"Cozinheiro\", \"Cientista\", \"Atleta\", \"Músico\", \"Piloto\",\n",
    "                  \"Designer\", \"Psicólogo\", \"Arquiteto\", \"Jornalista\", \"Empresário\", \"Farmacêutico\", \"Policial\", \"Bombeiro\", \"Veterinário\", \"Motorista\", \"Estudante\", \"Garçom\",\n",
    "                  \"Eletricista\", \"Dentista\", \"Vendedor\", \"Padeiro\"]\n",
    "    salary = np.random.uniform(2000, 30000, size=num_rows)\n",
    "\n",
    "    data = {\n",
    "        'Nome': names_list,\n",
    "        'idade': ages,\n",
    "        'Nacionalidade': nationalities,\n",
    "        # np.random.choice(nationalities, num_rows),\n",
    "        'Profissão': [random.choice(profession) for _ in range(num_rows)],\n",
    "        'Salario': salary\n",
    "\n",
    "    }\n",
    "\n",
    "    return pd.DataFrame(data)\n"
   ]
  },
  {
   "cell_type": "code",
   "execution_count": 47,
   "metadata": {},
   "outputs": [],
   "source": [
    "def generate_random_country():\n",
    "    country = random.choice(list(pycountry.countries))\n",
    "    return country.name"
   ]
  },
  {
   "cell_type": "code",
   "execution_count": 48,
   "metadata": {},
   "outputs": [],
   "source": [
    "def Save_data_as_csv(data, file_path):\n",
    "    data.to_csv(file_path, index=False)"
   ]
  },
  {
   "cell_type": "code",
   "execution_count": 49,
   "metadata": {},
   "outputs": [],
   "source": [
    "num_rows = 1000\n",
    "folder_path = 'C:/Users/alef.alves/codigos/dataframes'\n",
    "file_name = 'profissoes_df.csv'"
   ]
  },
  {
   "cell_type": "code",
   "execution_count": 50,
   "metadata": {},
   "outputs": [],
   "source": [
    "random_data = generate_random_data(num_rows)\n",
    "file_path = folder_path + '/' + file_name\n",
    "Save_data_as_csv(random_data, file_path)"
   ]
  }
 ],
 "metadata": {
  "kernelspec": {
   "display_name": "venv",
   "language": "python",
   "name": "python3"
  },
  "language_info": {
   "codemirror_mode": {
    "name": "ipython",
    "version": 3
   },
   "file_extension": ".py",
   "mimetype": "text/x-python",
   "name": "python",
   "nbconvert_exporter": "python",
   "pygments_lexer": "ipython3",
   "version": "3.11.4"
  },
  "orig_nbformat": 4
 },
 "nbformat": 4,
 "nbformat_minor": 2
}
